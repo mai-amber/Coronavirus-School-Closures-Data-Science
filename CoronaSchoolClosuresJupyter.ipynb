{
 "cells": [
  {
   "cell_type": "markdown",
   "metadata": {},
   "source": [
    "<H1> Coronavirus School Closures Data Science Project <H1>"
   ]
  },
  {
   "cell_type": "markdown",
   "metadata": {},
   "source": [
    "<img src=\"corona.png\" width=\"800\">"
   ]
  },
  {
   "cell_type": "markdown",
   "metadata": {},
   "source": [
    "<h2>Business Understanding<h2>"
   ]
  },
  {
   "cell_type": "markdown",
   "metadata": {},
   "source": [
    "Most countries around the world employ a system of school closures in attempt to flatten the Coronavirus infection curve. As reported in September, more than 1 billion students were affected by school closures. The question often arises whether or not this is an affective strategy, I wish to explore this by asking the following questions: \n",
    "1. Do open schools exacerbate coronavirus outbreaks?\n",
    "2. Is there a difference between age groups? \n",
    "3. Can the status of a country's school system be used in predicting the severity of a COVID-19 outbreak?"
   ]
  },
  {
   "cell_type": "markdown",
   "metadata": {},
   "source": [
    "<h2>Data Understanding<h2>"
   ]
  },
  {
   "cell_type": "code",
   "execution_count": 3,
   "metadata": {},
   "outputs": [],
   "source": [
    "# Import packages\n",
    "import numpy as np\n",
    "import pandas as pd"
   ]
  },
  {
   "cell_type": "markdown",
   "metadata": {},
   "source": [
    "I obtained a dataset of school closure information from Kaggle, and a COVID-19 dataset including daily confirmed cases from Our World in Data"
   ]
  },
  {
   "cell_type": "code",
   "execution_count": 4,
   "metadata": {},
   "outputs": [],
   "source": [
    "edu = pd.read_csv(\"covid_impact_education.csv\")\n",
    "cases = pd.read_csv(\"https://covid.ourworldindata.org/data/owid-covid-data.csv\")"
   ]
  },
  {
   "cell_type": "markdown",
   "metadata": {},
   "source": [
    "<h2>Data Preparation<h2>"
   ]
  },
  {
   "cell_type": "markdown",
   "metadata": {},
   "source": [
    "Choosing columns I need from the datasets, getting rid of invalid values, changing column names as necessary, and finally merging the datasets"
   ]
  },
  {
   "cell_type": "code",
   "execution_count": 6,
   "metadata": {},
   "outputs": [
    {
     "data": {
      "text/html": [
       "<div>\n",
       "<style scoped>\n",
       "    .dataframe tbody tr th:only-of-type {\n",
       "        vertical-align: middle;\n",
       "    }\n",
       "\n",
       "    .dataframe tbody tr th {\n",
       "        vertical-align: top;\n",
       "    }\n",
       "\n",
       "    .dataframe thead th {\n",
       "        text-align: right;\n",
       "    }\n",
       "</style>\n",
       "<table border=\"1\" class=\"dataframe\">\n",
       "  <thead>\n",
       "    <tr style=\"text-align: right;\">\n",
       "      <th></th>\n",
       "      <th>Date</th>\n",
       "      <th>Status</th>\n",
       "      <th>Country</th>\n",
       "    </tr>\n",
       "  </thead>\n",
       "  <tbody>\n",
       "    <tr>\n",
       "      <th>0</th>\n",
       "      <td>17/02/2020</td>\n",
       "      <td>Partially open</td>\n",
       "      <td>China</td>\n",
       "    </tr>\n",
       "    <tr>\n",
       "      <th>1</th>\n",
       "      <td>17/02/2020</td>\n",
       "      <td>Closed due to COVID-19</td>\n",
       "      <td>Mongolia</td>\n",
       "    </tr>\n",
       "    <tr>\n",
       "      <th>2</th>\n",
       "      <td>18/02/2020</td>\n",
       "      <td>Partially open</td>\n",
       "      <td>China</td>\n",
       "    </tr>\n",
       "    <tr>\n",
       "      <th>3</th>\n",
       "      <td>18/02/2020</td>\n",
       "      <td>Closed due to COVID-19</td>\n",
       "      <td>Mongolia</td>\n",
       "    </tr>\n",
       "    <tr>\n",
       "      <th>4</th>\n",
       "      <td>19/02/2020</td>\n",
       "      <td>Partially open</td>\n",
       "      <td>China</td>\n",
       "    </tr>\n",
       "  </tbody>\n",
       "</table>\n",
       "</div>"
      ],
      "text/plain": [
       "         Date                  Status   Country\n",
       "0  17/02/2020          Partially open     China\n",
       "1  17/02/2020  Closed due to COVID-19  Mongolia\n",
       "2  18/02/2020          Partially open     China\n",
       "3  18/02/2020  Closed due to COVID-19  Mongolia\n",
       "4  19/02/2020          Partially open     China"
      ]
     },
     "execution_count": 6,
     "metadata": {},
     "output_type": "execute_result"
    }
   ],
   "source": [
    "edu = edu[[\"Date\", \"Status\", \"Country\"]]\n",
    "edu.head()"
   ]
  },
  {
   "cell_type": "code",
   "execution_count": 7,
   "metadata": {},
   "outputs": [
    {
     "data": {
      "text/plain": [
       "Date       0\n",
       "Status     0\n",
       "Country    0\n",
       "dtype: int64"
      ]
     },
     "execution_count": 7,
     "metadata": {},
     "output_type": "execute_result"
    }
   ],
   "source": [
    "edu.isna().sum() # No need to drop invalid values, there are none"
   ]
  },
  {
   "cell_type": "code",
   "execution_count": 8,
   "metadata": {},
   "outputs": [],
   "source": [
    "cases = cases.rename(columns = {\"location\": \"Country\"})\n",
    "cases = cases.rename(columns = {\"date\": \"Date\"})"
   ]
  },
  {
   "cell_type": "code",
   "execution_count": 9,
   "metadata": {},
   "outputs": [
    {
     "data": {
      "text/html": [
       "<div>\n",
       "<style scoped>\n",
       "    .dataframe tbody tr th:only-of-type {\n",
       "        vertical-align: middle;\n",
       "    }\n",
       "\n",
       "    .dataframe tbody tr th {\n",
       "        vertical-align: top;\n",
       "    }\n",
       "\n",
       "    .dataframe thead th {\n",
       "        text-align: right;\n",
       "    }\n",
       "</style>\n",
       "<table border=\"1\" class=\"dataframe\">\n",
       "  <thead>\n",
       "    <tr style=\"text-align: right;\">\n",
       "      <th></th>\n",
       "      <th>Date</th>\n",
       "      <th>new_cases</th>\n",
       "      <th>median_age</th>\n",
       "    </tr>\n",
       "  </thead>\n",
       "  <tbody>\n",
       "    <tr>\n",
       "      <th>0</th>\n",
       "      <td>2020-03-13</td>\n",
       "      <td>2.0</td>\n",
       "      <td>41.2</td>\n",
       "    </tr>\n",
       "    <tr>\n",
       "      <th>1</th>\n",
       "      <td>2020-03-19</td>\n",
       "      <td>NaN</td>\n",
       "      <td>41.2</td>\n",
       "    </tr>\n",
       "    <tr>\n",
       "      <th>2</th>\n",
       "      <td>2020-03-20</td>\n",
       "      <td>2.0</td>\n",
       "      <td>41.2</td>\n",
       "    </tr>\n",
       "    <tr>\n",
       "      <th>3</th>\n",
       "      <td>2020-03-21</td>\n",
       "      <td>NaN</td>\n",
       "      <td>41.2</td>\n",
       "    </tr>\n",
       "    <tr>\n",
       "      <th>4</th>\n",
       "      <td>2020-03-22</td>\n",
       "      <td>NaN</td>\n",
       "      <td>41.2</td>\n",
       "    </tr>\n",
       "  </tbody>\n",
       "</table>\n",
       "</div>"
      ],
      "text/plain": [
       "         Date  new_cases  median_age\n",
       "0  2020-03-13        2.0        41.2\n",
       "1  2020-03-19        NaN        41.2\n",
       "2  2020-03-20        2.0        41.2\n",
       "3  2020-03-21        NaN        41.2\n",
       "4  2020-03-22        NaN        41.2"
      ]
     },
     "execution_count": 9,
     "metadata": {},
     "output_type": "execute_result"
    }
   ],
   "source": [
    "cases = cases[[\"Date\", \"new_cases\", \"median_age\"]]\n",
    "cases.head()"
   ]
  },
  {
   "cell_type": "code",
   "execution_count": 12,
   "metadata": {},
   "outputs": [
    {
     "data": {
      "text/plain": [
       "Date          0\n",
       "new_cases     0\n",
       "median_age    0\n",
       "dtype: int64"
      ]
     },
     "execution_count": 12,
     "metadata": {},
     "output_type": "execute_result"
    }
   ],
   "source": [
    "cases.isna().sum() # No need to drop invalid values, there are none"
   ]
  },
  {
   "cell_type": "code",
   "execution_count": 6,
   "metadata": {},
   "outputs": [],
   "source": [
    "cases['Date'] = pd.to_datetime(cases['Date'])\n",
    "edu['Date'] = pd.to_datetime(edu['Date'])"
   ]
  },
  {
   "cell_type": "code",
   "execution_count": 7,
   "metadata": {},
   "outputs": [
    {
     "data": {
      "text/html": [
       "<div>\n",
       "<style scoped>\n",
       "    .dataframe tbody tr th:only-of-type {\n",
       "        vertical-align: middle;\n",
       "    }\n",
       "\n",
       "    .dataframe tbody tr th {\n",
       "        vertical-align: top;\n",
       "    }\n",
       "\n",
       "    .dataframe thead th {\n",
       "        text-align: right;\n",
       "    }\n",
       "</style>\n",
       "<table border=\"1\" class=\"dataframe\">\n",
       "  <thead>\n",
       "    <tr style=\"text-align: right;\">\n",
       "      <th></th>\n",
       "      <th>Date</th>\n",
       "      <th>new_cases</th>\n",
       "      <th>median_age</th>\n",
       "      <th>Status</th>\n",
       "      <th>Country</th>\n",
       "    </tr>\n",
       "  </thead>\n",
       "  <tbody>\n",
       "    <tr>\n",
       "      <th>0</th>\n",
       "      <td>2020-03-13</td>\n",
       "      <td>2.0</td>\n",
       "      <td>41.2</td>\n",
       "      <td>Partially open</td>\n",
       "      <td>Afghanistan</td>\n",
       "    </tr>\n",
       "    <tr>\n",
       "      <th>1</th>\n",
       "      <td>2020-03-13</td>\n",
       "      <td>2.0</td>\n",
       "      <td>41.2</td>\n",
       "      <td>Closed due to COVID-19</td>\n",
       "      <td>Anguilla</td>\n",
       "    </tr>\n",
       "    <tr>\n",
       "      <th>2</th>\n",
       "      <td>2020-03-13</td>\n",
       "      <td>2.0</td>\n",
       "      <td>41.2</td>\n",
       "      <td>Closed due to COVID-19</td>\n",
       "      <td>Albania</td>\n",
       "    </tr>\n",
       "    <tr>\n",
       "      <th>3</th>\n",
       "      <td>2020-03-13</td>\n",
       "      <td>2.0</td>\n",
       "      <td>41.2</td>\n",
       "      <td>Closed due to COVID-19</td>\n",
       "      <td>United Arab Emirates</td>\n",
       "    </tr>\n",
       "    <tr>\n",
       "      <th>4</th>\n",
       "      <td>2020-03-13</td>\n",
       "      <td>2.0</td>\n",
       "      <td>41.2</td>\n",
       "      <td>Closed due to COVID-19</td>\n",
       "      <td>Armenia</td>\n",
       "    </tr>\n",
       "  </tbody>\n",
       "</table>\n",
       "</div>"
      ],
      "text/plain": [
       "        Date  new_cases  median_age                  Status  \\\n",
       "0 2020-03-13        2.0        41.2          Partially open   \n",
       "1 2020-03-13        2.0        41.2  Closed due to COVID-19   \n",
       "2 2020-03-13        2.0        41.2  Closed due to COVID-19   \n",
       "3 2020-03-13        2.0        41.2  Closed due to COVID-19   \n",
       "4 2020-03-13        2.0        41.2  Closed due to COVID-19   \n",
       "\n",
       "                Country  \n",
       "0           Afghanistan  \n",
       "1              Anguilla  \n",
       "2               Albania  \n",
       "3  United Arab Emirates  \n",
       "4               Armenia  "
      ]
     },
     "execution_count": 7,
     "metadata": {},
     "output_type": "execute_result"
    }
   ],
   "source": [
    "alldata = cases.merge(edu,left_on=['Date'], right_on=['Date'])\n",
    "alldata.head()"
   ]
  },
  {
   "cell_type": "code",
   "execution_count": 8,
   "metadata": {},
   "outputs": [],
   "source": [
    "alldata.Status = alldata.Status.replace('Closed due to COVID-19', 'COVID Closure')\n",
    "alldata.Status = alldata.Status.replace('Academic break', 'Break')\n",
    "alldata.Status = alldata.Status.replace('Partially open', 'Partially Open')\n",
    "alldata.Status = alldata.Status.replace('Fully open', 'Open')"
   ]
  },
  {
   "cell_type": "markdown",
   "metadata": {},
   "source": [
    "<h2>Modeling<h2>"
   ]
  },
  {
   "cell_type": "markdown",
   "metadata": {},
   "source": [
    "I modeled by using a bar plot, then a boxplot. I experimented with many others as well but found that they were not at all informative"
   ]
  },
  {
   "cell_type": "code",
   "execution_count": 9,
   "metadata": {},
   "outputs": [],
   "source": [
    "# Modeling Packages\n",
    "import matplotlib.pyplot as plt\n",
    "import seaborn as sns\n",
    "%matplotlib inline"
   ]
  },
  {
   "cell_type": "code",
   "execution_count": 10,
   "metadata": {},
   "outputs": [
    {
     "data": {
      "text/plain": [
       "[Text(0, 0.5, 'Mean COVID positive results'),\n",
       " Text(0.5, 0, 'School system status')]"
      ]
     },
     "execution_count": 10,
     "metadata": {},
     "output_type": "execute_result"
    },
    {
     "data": {
      "image/png": "[encoded data removed]",
      "text/plain": [
       "<Figure size 432x288 with 1 Axes>"
      ]
     },
     "metadata": {},
     "output_type": "display_data"
    }
   ],
   "source": [
    "sns.set_style(\"white\")\n",
    "allbar = sns.barplot(data =alldata, x = \"Status\", y= \"new_cases\", color = \"salmon\")\n",
    "allbar.set(xlabel=\"School system status\", ylabel = \"Mean COVID positive results\")"
   ]
  },
  {
   "cell_type": "code",
   "execution_count": 11,
   "metadata": {},
   "outputs": [
    {
     "data": {
      "text/plain": [
       "[Text(0, 0.5, 'Median Age'), Text(0.5, 0, 'School system status')]"
      ]
     },
     "execution_count": 11,
     "metadata": {},
     "output_type": "execute_result"
    },
    {
     "data": {
      "image/png": "[encoded data removed]",
      "text/plain": [
       "<Figure size 432x288 with 1 Axes>"
      ]
     },
     "metadata": {},
     "output_type": "display_data"
    }
   ],
   "source": [
    "sns.set_style(\"white\")\n",
    "allbox = sns.boxplot(data =alldata, x = \"Status\", y= \"median_age\", color = \"black\")\n",
    "allbox.set(xlabel=\"School system status\", ylabel = \"Median Age\")"
   ]
  },
  {
   "cell_type": "markdown",
   "metadata": {},
   "source": [
    "<h2>Evaluation<h2>"
   ]
  },
  {
   "cell_type": "markdown",
   "metadata": {},
   "source": [
    "Here I employed machine learning and assessed the value of the model"
   ]
  },
  {
   "cell_type": "code",
   "execution_count": 80,
   "metadata": {},
   "outputs": [],
   "source": [
    "edu2 = pd.read_csv(\"covid_impact_education.csv\")\n",
    "cases2 = pd.read_csv(\"https://covid.ourworldindata.org/data/owid-covid-data.csv\")"
   ]
  },
  {
   "cell_type": "code",
   "execution_count": 81,
   "metadata": {},
   "outputs": [
    {
     "data": {
      "text/html": [
       "<div>\n",
       "<style scoped>\n",
       "    .dataframe tbody tr th:only-of-type {\n",
       "        vertical-align: middle;\n",
       "    }\n",
       "\n",
       "    .dataframe tbody tr th {\n",
       "        vertical-align: top;\n",
       "    }\n",
       "\n",
       "    .dataframe thead th {\n",
       "        text-align: right;\n",
       "    }\n",
       "</style>\n",
       "<table border=\"1\" class=\"dataframe\">\n",
       "  <thead>\n",
       "    <tr style=\"text-align: right;\">\n",
       "      <th></th>\n",
       "      <th>Date</th>\n",
       "      <th>Status</th>\n",
       "      <th>Country</th>\n",
       "    </tr>\n",
       "  </thead>\n",
       "  <tbody>\n",
       "    <tr>\n",
       "      <th>0</th>\n",
       "      <td>2020-02-17</td>\n",
       "      <td>Partially open</td>\n",
       "      <td>China</td>\n",
       "    </tr>\n",
       "    <tr>\n",
       "      <th>1</th>\n",
       "      <td>2020-02-17</td>\n",
       "      <td>Closed due to COVID-19</td>\n",
       "      <td>Mongolia</td>\n",
       "    </tr>\n",
       "    <tr>\n",
       "      <th>2</th>\n",
       "      <td>2020-02-18</td>\n",
       "      <td>Partially open</td>\n",
       "      <td>China</td>\n",
       "    </tr>\n",
       "    <tr>\n",
       "      <th>3</th>\n",
       "      <td>2020-02-18</td>\n",
       "      <td>Closed due to COVID-19</td>\n",
       "      <td>Mongolia</td>\n",
       "    </tr>\n",
       "    <tr>\n",
       "      <th>4</th>\n",
       "      <td>2020-02-19</td>\n",
       "      <td>Partially open</td>\n",
       "      <td>China</td>\n",
       "    </tr>\n",
       "    <tr>\n",
       "      <th>...</th>\n",
       "      <td>...</td>\n",
       "      <td>...</td>\n",
       "      <td>...</td>\n",
       "    </tr>\n",
       "    <tr>\n",
       "      <th>41709</th>\n",
       "      <td>2020-09-30</td>\n",
       "      <td>Fully open</td>\n",
       "      <td>Samoa</td>\n",
       "    </tr>\n",
       "    <tr>\n",
       "      <th>41710</th>\n",
       "      <td>2020-09-30</td>\n",
       "      <td>Closed due to COVID-19</td>\n",
       "      <td>Yemen</td>\n",
       "    </tr>\n",
       "    <tr>\n",
       "      <th>41711</th>\n",
       "      <td>2020-09-30</td>\n",
       "      <td>Fully open</td>\n",
       "      <td>South Africa</td>\n",
       "    </tr>\n",
       "    <tr>\n",
       "      <th>41712</th>\n",
       "      <td>2020-09-30</td>\n",
       "      <td>Partially open</td>\n",
       "      <td>Zambia</td>\n",
       "    </tr>\n",
       "    <tr>\n",
       "      <th>41713</th>\n",
       "      <td>2020-09-30</td>\n",
       "      <td>Closed due to COVID-19</td>\n",
       "      <td>Zimbabwe</td>\n",
       "    </tr>\n",
       "  </tbody>\n",
       "</table>\n",
       "<p>41714 rows × 3 columns</p>\n",
       "</div>"
      ],
      "text/plain": [
       "            Date                  Status       Country\n",
       "0     2020-02-17          Partially open         China\n",
       "1     2020-02-17  Closed due to COVID-19      Mongolia\n",
       "2     2020-02-18          Partially open         China\n",
       "3     2020-02-18  Closed due to COVID-19      Mongolia\n",
       "4     2020-02-19          Partially open         China\n",
       "...          ...                     ...           ...\n",
       "41709 2020-09-30              Fully open         Samoa\n",
       "41710 2020-09-30  Closed due to COVID-19         Yemen\n",
       "41711 2020-09-30              Fully open  South Africa\n",
       "41712 2020-09-30          Partially open        Zambia\n",
       "41713 2020-09-30  Closed due to COVID-19      Zimbabwe\n",
       "\n",
       "[41714 rows x 3 columns]"
      ]
     },
     "execution_count": 81,
     "metadata": {},
     "output_type": "execute_result"
    }
   ],
   "source": [
    "edu2 = edu[[\"Date\", \"Status\", \"Country\"]]"
   ]
  },
  {
   "cell_type": "code",
   "execution_count": 82,
   "metadata": {},
   "outputs": [
    {
     "data": {
      "text/html": [
       "<div>\n",
       "<style scoped>\n",
       "    .dataframe tbody tr th:only-of-type {\n",
       "        vertical-align: middle;\n",
       "    }\n",
       "\n",
       "    .dataframe tbody tr th {\n",
       "        vertical-align: top;\n",
       "    }\n",
       "\n",
       "    .dataframe thead th {\n",
       "        text-align: right;\n",
       "    }\n",
       "</style>\n",
       "<table border=\"1\" class=\"dataframe\">\n",
       "  <thead>\n",
       "    <tr style=\"text-align: right;\">\n",
       "      <th></th>\n",
       "      <th>iso_code</th>\n",
       "      <th>continent</th>\n",
       "      <th>location</th>\n",
       "      <th>date</th>\n",
       "      <th>total_cases</th>\n",
       "      <th>new_cases</th>\n",
       "      <th>new_cases_smoothed</th>\n",
       "      <th>total_deaths</th>\n",
       "      <th>new_deaths</th>\n",
       "      <th>new_deaths_smoothed</th>\n",
       "      <th>...</th>\n",
       "      <th>gdp_per_capita</th>\n",
       "      <th>extreme_poverty</th>\n",
       "      <th>cardiovasc_death_rate</th>\n",
       "      <th>diabetes_prevalence</th>\n",
       "      <th>female_smokers</th>\n",
       "      <th>male_smokers</th>\n",
       "      <th>handwashing_facilities</th>\n",
       "      <th>hospital_beds_per_thousand</th>\n",
       "      <th>life_expectancy</th>\n",
       "      <th>human_development_index</th>\n",
       "    </tr>\n",
       "  </thead>\n",
       "  <tbody>\n",
       "    <tr>\n",
       "      <th>0</th>\n",
       "      <td>ABW</td>\n",
       "      <td>North America</td>\n",
       "      <td>Aruba</td>\n",
       "      <td>2020-03-13</td>\n",
       "      <td>2.0</td>\n",
       "      <td>2.0</td>\n",
       "      <td>NaN</td>\n",
       "      <td>NaN</td>\n",
       "      <td>0.0</td>\n",
       "      <td>NaN</td>\n",
       "      <td>...</td>\n",
       "      <td>35973.781</td>\n",
       "      <td>NaN</td>\n",
       "      <td>NaN</td>\n",
       "      <td>11.62</td>\n",
       "      <td>NaN</td>\n",
       "      <td>NaN</td>\n",
       "      <td>NaN</td>\n",
       "      <td>NaN</td>\n",
       "      <td>76.29</td>\n",
       "      <td>NaN</td>\n",
       "    </tr>\n",
       "    <tr>\n",
       "      <th>1</th>\n",
       "      <td>ABW</td>\n",
       "      <td>North America</td>\n",
       "      <td>Aruba</td>\n",
       "      <td>2020-03-19</td>\n",
       "      <td>NaN</td>\n",
       "      <td>NaN</td>\n",
       "      <td>0.286</td>\n",
       "      <td>NaN</td>\n",
       "      <td>NaN</td>\n",
       "      <td>0.0</td>\n",
       "      <td>...</td>\n",
       "      <td>35973.781</td>\n",
       "      <td>NaN</td>\n",
       "      <td>NaN</td>\n",
       "      <td>11.62</td>\n",
       "      <td>NaN</td>\n",
       "      <td>NaN</td>\n",
       "      <td>NaN</td>\n",
       "      <td>NaN</td>\n",
       "      <td>76.29</td>\n",
       "      <td>NaN</td>\n",
       "    </tr>\n",
       "    <tr>\n",
       "      <th>2</th>\n",
       "      <td>ABW</td>\n",
       "      <td>North America</td>\n",
       "      <td>Aruba</td>\n",
       "      <td>2020-03-20</td>\n",
       "      <td>4.0</td>\n",
       "      <td>2.0</td>\n",
       "      <td>0.286</td>\n",
       "      <td>NaN</td>\n",
       "      <td>0.0</td>\n",
       "      <td>0.0</td>\n",
       "      <td>...</td>\n",
       "      <td>35973.781</td>\n",
       "      <td>NaN</td>\n",
       "      <td>NaN</td>\n",
       "      <td>11.62</td>\n",
       "      <td>NaN</td>\n",
       "      <td>NaN</td>\n",
       "      <td>NaN</td>\n",
       "      <td>NaN</td>\n",
       "      <td>76.29</td>\n",
       "      <td>NaN</td>\n",
       "    </tr>\n",
       "    <tr>\n",
       "      <th>3</th>\n",
       "      <td>ABW</td>\n",
       "      <td>North America</td>\n",
       "      <td>Aruba</td>\n",
       "      <td>2020-03-21</td>\n",
       "      <td>NaN</td>\n",
       "      <td>NaN</td>\n",
       "      <td>0.286</td>\n",
       "      <td>NaN</td>\n",
       "      <td>NaN</td>\n",
       "      <td>0.0</td>\n",
       "      <td>...</td>\n",
       "      <td>35973.781</td>\n",
       "      <td>NaN</td>\n",
       "      <td>NaN</td>\n",
       "      <td>11.62</td>\n",
       "      <td>NaN</td>\n",
       "      <td>NaN</td>\n",
       "      <td>NaN</td>\n",
       "      <td>NaN</td>\n",
       "      <td>76.29</td>\n",
       "      <td>NaN</td>\n",
       "    </tr>\n",
       "    <tr>\n",
       "      <th>4</th>\n",
       "      <td>ABW</td>\n",
       "      <td>North America</td>\n",
       "      <td>Aruba</td>\n",
       "      <td>2020-03-22</td>\n",
       "      <td>NaN</td>\n",
       "      <td>NaN</td>\n",
       "      <td>0.286</td>\n",
       "      <td>NaN</td>\n",
       "      <td>NaN</td>\n",
       "      <td>0.0</td>\n",
       "      <td>...</td>\n",
       "      <td>35973.781</td>\n",
       "      <td>NaN</td>\n",
       "      <td>NaN</td>\n",
       "      <td>11.62</td>\n",
       "      <td>NaN</td>\n",
       "      <td>NaN</td>\n",
       "      <td>NaN</td>\n",
       "      <td>NaN</td>\n",
       "      <td>76.29</td>\n",
       "      <td>NaN</td>\n",
       "    </tr>\n",
       "  </tbody>\n",
       "</table>\n",
       "<p>5 rows × 41 columns</p>\n",
       "</div>"
      ],
      "text/plain": [
       "  iso_code      continent location        date  total_cases  new_cases  \\\n",
       "0      ABW  North America    Aruba  2020-03-13          2.0        2.0   \n",
       "1      ABW  North America    Aruba  2020-03-19          NaN        NaN   \n",
       "2      ABW  North America    Aruba  2020-03-20          4.0        2.0   \n",
       "3      ABW  North America    Aruba  2020-03-21          NaN        NaN   \n",
       "4      ABW  North America    Aruba  2020-03-22          NaN        NaN   \n",
       "\n",
       "   new_cases_smoothed  total_deaths  new_deaths  new_deaths_smoothed  ...  \\\n",
       "0                 NaN           NaN         0.0                  NaN  ...   \n",
       "1               0.286           NaN         NaN                  0.0  ...   \n",
       "2               0.286           NaN         0.0                  0.0  ...   \n",
       "3               0.286           NaN         NaN                  0.0  ...   \n",
       "4               0.286           NaN         NaN                  0.0  ...   \n",
       "\n",
       "   gdp_per_capita  extreme_poverty  cardiovasc_death_rate  \\\n",
       "0       35973.781              NaN                    NaN   \n",
       "1       35973.781              NaN                    NaN   \n",
       "2       35973.781              NaN                    NaN   \n",
       "3       35973.781              NaN                    NaN   \n",
       "4       35973.781              NaN                    NaN   \n",
       "\n",
       "   diabetes_prevalence  female_smokers  male_smokers  handwashing_facilities  \\\n",
       "0                11.62             NaN           NaN                     NaN   \n",
       "1                11.62             NaN           NaN                     NaN   \n",
       "2                11.62             NaN           NaN                     NaN   \n",
       "3                11.62             NaN           NaN                     NaN   \n",
       "4                11.62             NaN           NaN                     NaN   \n",
       "\n",
       "   hospital_beds_per_thousand  life_expectancy  human_development_index  \n",
       "0                         NaN            76.29                      NaN  \n",
       "1                         NaN            76.29                      NaN  \n",
       "2                         NaN            76.29                      NaN  \n",
       "3                         NaN            76.29                      NaN  \n",
       "4                         NaN            76.29                      NaN  \n",
       "\n",
       "[5 rows x 41 columns]"
      ]
     },
     "execution_count": 82,
     "metadata": {},
     "output_type": "execute_result"
    }
   ],
   "source": [
    "cases2.head()"
   ]
  },
  {
   "cell_type": "code",
   "execution_count": 83,
   "metadata": {},
   "outputs": [],
   "source": [
    "cases2 = cases2.rename(columns = {\"location\": \"Country\"})\n",
    "cases2 = cases2.rename(columns = {\"date\": \"Date\"})"
   ]
  },
  {
   "cell_type": "code",
   "execution_count": 84,
   "metadata": {},
   "outputs": [
    {
     "data": {
      "text/html": [
       "<div>\n",
       "<style scoped>\n",
       "    .dataframe tbody tr th:only-of-type {\n",
       "        vertical-align: middle;\n",
       "    }\n",
       "\n",
       "    .dataframe tbody tr th {\n",
       "        vertical-align: top;\n",
       "    }\n",
       "\n",
       "    .dataframe thead th {\n",
       "        text-align: right;\n",
       "    }\n",
       "</style>\n",
       "<table border=\"1\" class=\"dataframe\">\n",
       "  <thead>\n",
       "    <tr style=\"text-align: right;\">\n",
       "      <th></th>\n",
       "      <th>Date</th>\n",
       "      <th>new_cases</th>\n",
       "      <th>median_age</th>\n",
       "      <th>Country</th>\n",
       "      <th>new_deaths</th>\n",
       "    </tr>\n",
       "  </thead>\n",
       "  <tbody>\n",
       "    <tr>\n",
       "      <th>0</th>\n",
       "      <td>2020-03-13</td>\n",
       "      <td>2.0</td>\n",
       "      <td>41.2</td>\n",
       "      <td>Aruba</td>\n",
       "      <td>0.0</td>\n",
       "    </tr>\n",
       "    <tr>\n",
       "      <th>2</th>\n",
       "      <td>2020-03-20</td>\n",
       "      <td>2.0</td>\n",
       "      <td>41.2</td>\n",
       "      <td>Aruba</td>\n",
       "      <td>0.0</td>\n",
       "    </tr>\n",
       "    <tr>\n",
       "      <th>6</th>\n",
       "      <td>2020-03-24</td>\n",
       "      <td>8.0</td>\n",
       "      <td>41.2</td>\n",
       "      <td>Aruba</td>\n",
       "      <td>0.0</td>\n",
       "    </tr>\n",
       "    <tr>\n",
       "      <th>7</th>\n",
       "      <td>2020-03-25</td>\n",
       "      <td>5.0</td>\n",
       "      <td>41.2</td>\n",
       "      <td>Aruba</td>\n",
       "      <td>0.0</td>\n",
       "    </tr>\n",
       "    <tr>\n",
       "      <th>8</th>\n",
       "      <td>2020-03-26</td>\n",
       "      <td>2.0</td>\n",
       "      <td>41.2</td>\n",
       "      <td>Aruba</td>\n",
       "      <td>0.0</td>\n",
       "    </tr>\n",
       "  </tbody>\n",
       "</table>\n",
       "</div>"
      ],
      "text/plain": [
       "         Date  new_cases  median_age Country  new_deaths\n",
       "0  2020-03-13        2.0        41.2   Aruba         0.0\n",
       "2  2020-03-20        2.0        41.2   Aruba         0.0\n",
       "6  2020-03-24        8.0        41.2   Aruba         0.0\n",
       "7  2020-03-25        5.0        41.2   Aruba         0.0\n",
       "8  2020-03-26        2.0        41.2   Aruba         0.0"
      ]
     },
     "execution_count": 84,
     "metadata": {},
     "output_type": "execute_result"
    }
   ],
   "source": [
    "cases2 = cases2[[\"Date\", \"new_cases\", \"median_age\", \"Country\", \"new_deaths\"]]\n",
    "cases2.head()"
   ]
  },
  {
   "cell_type": "code",
   "execution_count": 85,
   "metadata": {},
   "outputs": [],
   "source": [
    "cases2['Date'] = pd.to_datetime(cases2['Date'])\n",
    "edu2['Date'] = pd.to_datetime(edu2['Date'])"
   ]
  },
  {
   "cell_type": "code",
   "execution_count": 86,
   "metadata": {},
   "outputs": [
    {
     "data": {
      "text/html": [
       "<div>\n",
       "<style scoped>\n",
       "    .dataframe tbody tr th:only-of-type {\n",
       "        vertical-align: middle;\n",
       "    }\n",
       "\n",
       "    .dataframe tbody tr th {\n",
       "        vertical-align: top;\n",
       "    }\n",
       "\n",
       "    .dataframe thead th {\n",
       "        text-align: right;\n",
       "    }\n",
       "</style>\n",
       "<table border=\"1\" class=\"dataframe\">\n",
       "  <thead>\n",
       "    <tr style=\"text-align: right;\">\n",
       "      <th></th>\n",
       "      <th>Date</th>\n",
       "      <th>new_cases</th>\n",
       "      <th>median_age</th>\n",
       "      <th>Country</th>\n",
       "      <th>new_deaths</th>\n",
       "      <th>Status</th>\n",
       "    </tr>\n",
       "  </thead>\n",
       "  <tbody>\n",
       "    <tr>\n",
       "      <th>0</th>\n",
       "      <td>2020-03-20</td>\n",
       "      <td>2.0</td>\n",
       "      <td>41.2</td>\n",
       "      <td>Aruba</td>\n",
       "      <td>0.0</td>\n",
       "      <td>Closed due to COVID-19</td>\n",
       "    </tr>\n",
       "    <tr>\n",
       "      <th>1</th>\n",
       "      <td>2020-03-24</td>\n",
       "      <td>8.0</td>\n",
       "      <td>41.2</td>\n",
       "      <td>Aruba</td>\n",
       "      <td>0.0</td>\n",
       "      <td>Closed due to COVID-19</td>\n",
       "    </tr>\n",
       "    <tr>\n",
       "      <th>2</th>\n",
       "      <td>2020-03-25</td>\n",
       "      <td>5.0</td>\n",
       "      <td>41.2</td>\n",
       "      <td>Aruba</td>\n",
       "      <td>0.0</td>\n",
       "      <td>Closed due to COVID-19</td>\n",
       "    </tr>\n",
       "    <tr>\n",
       "      <th>3</th>\n",
       "      <td>2020-03-26</td>\n",
       "      <td>2.0</td>\n",
       "      <td>41.2</td>\n",
       "      <td>Aruba</td>\n",
       "      <td>0.0</td>\n",
       "      <td>Closed due to COVID-19</td>\n",
       "    </tr>\n",
       "    <tr>\n",
       "      <th>4</th>\n",
       "      <td>2020-03-27</td>\n",
       "      <td>9.0</td>\n",
       "      <td>41.2</td>\n",
       "      <td>Aruba</td>\n",
       "      <td>0.0</td>\n",
       "      <td>Closed due to COVID-19</td>\n",
       "    </tr>\n",
       "    <tr>\n",
       "      <th>...</th>\n",
       "      <td>...</td>\n",
       "      <td>...</td>\n",
       "      <td>...</td>\n",
       "      <td>...</td>\n",
       "      <td>...</td>\n",
       "      <td>...</td>\n",
       "    </tr>\n",
       "    <tr>\n",
       "      <th>12495</th>\n",
       "      <td>2020-09-13</td>\n",
       "      <td>1501.0</td>\n",
       "      <td>47.9</td>\n",
       "      <td>Italy</td>\n",
       "      <td>6.0</td>\n",
       "      <td>Academic break</td>\n",
       "    </tr>\n",
       "    <tr>\n",
       "      <th>12496</th>\n",
       "      <td>2020-09-14</td>\n",
       "      <td>1456.0</td>\n",
       "      <td>47.9</td>\n",
       "      <td>Italy</td>\n",
       "      <td>7.0</td>\n",
       "      <td>Fully open</td>\n",
       "    </tr>\n",
       "    <tr>\n",
       "      <th>12497</th>\n",
       "      <td>2020-09-15</td>\n",
       "      <td>1008.0</td>\n",
       "      <td>47.9</td>\n",
       "      <td>Italy</td>\n",
       "      <td>14.0</td>\n",
       "      <td>Fully open</td>\n",
       "    </tr>\n",
       "    <tr>\n",
       "      <th>12498</th>\n",
       "      <td>2020-09-16</td>\n",
       "      <td>1229.0</td>\n",
       "      <td>47.9</td>\n",
       "      <td>Italy</td>\n",
       "      <td>9.0</td>\n",
       "      <td>Fully open</td>\n",
       "    </tr>\n",
       "    <tr>\n",
       "      <th>12499</th>\n",
       "      <td>2020-09-17</td>\n",
       "      <td>1452.0</td>\n",
       "      <td>47.9</td>\n",
       "      <td>Italy</td>\n",
       "      <td>12.0</td>\n",
       "      <td>Fully open</td>\n",
       "    </tr>\n",
       "  </tbody>\n",
       "</table>\n",
       "<p>12500 rows × 6 columns</p>\n",
       "</div>"
      ],
      "text/plain": [
       "            Date  new_cases  median_age Country  new_deaths  \\\n",
       "0     2020-03-20        2.0        41.2   Aruba         0.0   \n",
       "1     2020-03-24        8.0        41.2   Aruba         0.0   \n",
       "2     2020-03-25        5.0        41.2   Aruba         0.0   \n",
       "3     2020-03-26        2.0        41.2   Aruba         0.0   \n",
       "4     2020-03-27        9.0        41.2   Aruba         0.0   \n",
       "...          ...        ...         ...     ...         ...   \n",
       "12495 2020-09-13     1501.0        47.9   Italy         6.0   \n",
       "12496 2020-09-14     1456.0        47.9   Italy         7.0   \n",
       "12497 2020-09-15     1008.0        47.9   Italy        14.0   \n",
       "12498 2020-09-16     1229.0        47.9   Italy         9.0   \n",
       "12499 2020-09-17     1452.0        47.9   Italy        12.0   \n",
       "\n",
       "                       Status  \n",
       "0      Closed due to COVID-19  \n",
       "1      Closed due to COVID-19  \n",
       "2      Closed due to COVID-19  \n",
       "3      Closed due to COVID-19  \n",
       "4      Closed due to COVID-19  \n",
       "...                       ...  \n",
       "12495          Academic break  \n",
       "12496              Fully open  \n",
       "12497              Fully open  \n",
       "12498              Fully open  \n",
       "12499              Fully open  \n",
       "\n",
       "[12500 rows x 6 columns]"
      ]
     },
     "execution_count": 86,
     "metadata": {},
     "output_type": "execute_result"
    }
   ],
   "source": [
    "alldata2 = cases2.merge(edu2,left_on=['Date','Country'], right_on=['Date','Country'])\n",
    "alldata2.head(12500)"
   ]
  },
  {
   "cell_type": "code",
   "execution_count": 87,
   "metadata": {},
   "outputs": [],
   "source": [
    "alldata2.Status = alldata2.Status.replace('Closed due to COVID-19', 0)\n",
    "alldata2.Status = alldata2.Status.replace('Academic break', 1)\n",
    "alldata2.Status = alldata2.Status.replace('Partially open', 2)\n",
    "alldata2.Status = alldata2.Status.replace('Fully open', 3)"
   ]
  },
  {
   "cell_type": "code",
   "execution_count": 88,
   "metadata": {},
   "outputs": [
    {
     "data": {
      "text/html": [
       "<div>\n",
       "<style scoped>\n",
       "    .dataframe tbody tr th:only-of-type {\n",
       "        vertical-align: middle;\n",
       "    }\n",
       "\n",
       "    .dataframe tbody tr th {\n",
       "        vertical-align: top;\n",
       "    }\n",
       "\n",
       "    .dataframe thead th {\n",
       "        text-align: right;\n",
       "    }\n",
       "</style>\n",
       "<table border=\"1\" class=\"dataframe\">\n",
       "  <thead>\n",
       "    <tr style=\"text-align: right;\">\n",
       "      <th></th>\n",
       "      <th>Date</th>\n",
       "      <th>new_cases</th>\n",
       "      <th>median_age</th>\n",
       "      <th>Country</th>\n",
       "      <th>new_deaths</th>\n",
       "      <th>Status</th>\n",
       "    </tr>\n",
       "  </thead>\n",
       "  <tbody>\n",
       "    <tr>\n",
       "      <th>0</th>\n",
       "      <td>2020-03-20</td>\n",
       "      <td>2.0</td>\n",
       "      <td>41.2</td>\n",
       "      <td>6</td>\n",
       "      <td>0.0</td>\n",
       "      <td>0</td>\n",
       "    </tr>\n",
       "    <tr>\n",
       "      <th>1</th>\n",
       "      <td>2020-03-24</td>\n",
       "      <td>8.0</td>\n",
       "      <td>41.2</td>\n",
       "      <td>6</td>\n",
       "      <td>0.0</td>\n",
       "      <td>0</td>\n",
       "    </tr>\n",
       "    <tr>\n",
       "      <th>2</th>\n",
       "      <td>2020-03-25</td>\n",
       "      <td>5.0</td>\n",
       "      <td>41.2</td>\n",
       "      <td>6</td>\n",
       "      <td>0.0</td>\n",
       "      <td>0</td>\n",
       "    </tr>\n",
       "    <tr>\n",
       "      <th>3</th>\n",
       "      <td>2020-03-26</td>\n",
       "      <td>2.0</td>\n",
       "      <td>41.2</td>\n",
       "      <td>6</td>\n",
       "      <td>0.0</td>\n",
       "      <td>0</td>\n",
       "    </tr>\n",
       "    <tr>\n",
       "      <th>4</th>\n",
       "      <td>2020-03-27</td>\n",
       "      <td>9.0</td>\n",
       "      <td>41.2</td>\n",
       "      <td>6</td>\n",
       "      <td>0.0</td>\n",
       "      <td>0</td>\n",
       "    </tr>\n",
       "    <tr>\n",
       "      <th>...</th>\n",
       "      <td>...</td>\n",
       "      <td>...</td>\n",
       "      <td>...</td>\n",
       "      <td>...</td>\n",
       "      <td>...</td>\n",
       "      <td>...</td>\n",
       "    </tr>\n",
       "    <tr>\n",
       "      <th>12495</th>\n",
       "      <td>2020-09-13</td>\n",
       "      <td>1501.0</td>\n",
       "      <td>47.9</td>\n",
       "      <td>70</td>\n",
       "      <td>6.0</td>\n",
       "      <td>1</td>\n",
       "    </tr>\n",
       "    <tr>\n",
       "      <th>12496</th>\n",
       "      <td>2020-09-14</td>\n",
       "      <td>1456.0</td>\n",
       "      <td>47.9</td>\n",
       "      <td>70</td>\n",
       "      <td>7.0</td>\n",
       "      <td>3</td>\n",
       "    </tr>\n",
       "    <tr>\n",
       "      <th>12497</th>\n",
       "      <td>2020-09-15</td>\n",
       "      <td>1008.0</td>\n",
       "      <td>47.9</td>\n",
       "      <td>70</td>\n",
       "      <td>14.0</td>\n",
       "      <td>3</td>\n",
       "    </tr>\n",
       "    <tr>\n",
       "      <th>12498</th>\n",
       "      <td>2020-09-16</td>\n",
       "      <td>1229.0</td>\n",
       "      <td>47.9</td>\n",
       "      <td>70</td>\n",
       "      <td>9.0</td>\n",
       "      <td>3</td>\n",
       "    </tr>\n",
       "    <tr>\n",
       "      <th>12499</th>\n",
       "      <td>2020-09-17</td>\n",
       "      <td>1452.0</td>\n",
       "      <td>47.9</td>\n",
       "      <td>70</td>\n",
       "      <td>12.0</td>\n",
       "      <td>3</td>\n",
       "    </tr>\n",
       "  </tbody>\n",
       "</table>\n",
       "<p>12500 rows × 6 columns</p>\n",
       "</div>"
      ],
      "text/plain": [
       "            Date  new_cases  median_age  Country  new_deaths  Status\n",
       "0     2020-03-20        2.0        41.2        6         0.0       0\n",
       "1     2020-03-24        8.0        41.2        6         0.0       0\n",
       "2     2020-03-25        5.0        41.2        6         0.0       0\n",
       "3     2020-03-26        2.0        41.2        6         0.0       0\n",
       "4     2020-03-27        9.0        41.2        6         0.0       0\n",
       "...          ...        ...         ...      ...         ...     ...\n",
       "12495 2020-09-13     1501.0        47.9       70         6.0       1\n",
       "12496 2020-09-14     1456.0        47.9       70         7.0       3\n",
       "12497 2020-09-15     1008.0        47.9       70        14.0       3\n",
       "12498 2020-09-16     1229.0        47.9       70         9.0       3\n",
       "12499 2020-09-17     1452.0        47.9       70        12.0       3\n",
       "\n",
       "[12500 rows x 6 columns]"
      ]
     },
     "execution_count": 88,
     "metadata": {},
     "output_type": "execute_result"
    }
   ],
   "source": [
    "alldata2[\"Country\"] = alldata2[\"Country\"].astype('category')\n",
    "alldata2[\"Country\"] = alldata2[\"Country\"].cat.codes\n",
    "alldata2.head(12500)"
   ]
  },
  {
   "cell_type": "code",
   "execution_count": 89,
   "metadata": {},
   "outputs": [],
   "source": [
    "# Data preprocessing\n",
    "import sklearn\n",
    "from sklearn.impute import KNNImputer\n",
    "from sklearn.preprocessing import StandardScaler, LabelEncoder\n",
    "from sklearn.model_selection import train_test_split,GridSearchCV\n",
    "from sklearn.metrics import mean_squared_error, r2_score\n",
    "\n",
    "# Machine Learning Algorithms\n",
    "from sklearn.linear_model import LinearRegression\n",
    "from sklearn.tree import DecisionTreeRegressor\n",
    "from sklearn.ensemble import RandomForestRegressor \n",
    "from sklearn.neighbors import KNeighborsRegressor"
   ]
  },
  {
   "cell_type": "code",
   "execution_count": 130,
   "metadata": {},
   "outputs": [],
   "source": [
    "X = np.asarray(alldata2[['Status', 'Country','new_cases']])\n",
    "y = np.asarray(alldata2['new_deaths'])\n",
    "from sklearn import preprocessing\n",
    "X= preprocessing.StandardScaler().fit(X).transform(X)\n",
    "from sklearn.model_selection import train_test_split\n",
    "X_train, X_test, y_train, y_test = train_test_split( X, y, test_size=0.35, random_state=4)"
   ]
  },
  {
   "cell_type": "code",
   "execution_count": 131,
   "metadata": {},
   "outputs": [],
   "source": [
    "\"\"\"This function applies training and evaluating to the following models\"\"\"\n",
    "def train_and_evaluate(model,X_train,y_train,X_test,y_test):\n",
    "    model.fit(X_train,y_train)\n",
    "    y_pred_train = model.predict(X_train)\n",
    "    y_pred_test = model.predict(X_test)\n",
    "    \n",
    "    print(\"Train R-2 Score -> {}\".format(r2_score(y_train, y_pred_train)))\n",
    "    print(\"Test R-2 Score -> {}\".format(r2_score(y_test,y_pred_test)))"
   ]
  },
  {
   "cell_type": "code",
   "execution_count": 132,
   "metadata": {},
   "outputs": [
    {
     "name": "stdout",
     "output_type": "stream",
     "text": [
      "Train R-2 Score -> 0.5374935194298094\n",
      "Test R-2 Score -> 0.4935863827725091\n"
     ]
    }
   ],
   "source": [
    "lr = LinearRegression(n_jobs=-1)\n",
    "train_and_evaluate(lr,X_train,y_train,X_test,y_test)"
   ]
  },
  {
   "cell_type": "code",
   "execution_count": 163,
   "metadata": {},
   "outputs": [
    {
     "name": "stdout",
     "output_type": "stream",
     "text": [
      "Train R-2 Score -> 0.6927488331943388\n",
      "Test R-2 Score -> 0.6071118729916973\n"
     ]
    }
   ],
   "source": [
    "dtr = DecisionTreeRegressor(max_depth=8,\n",
    "                            min_samples_split=5,\n",
    "                           max_leaf_nodes=10,\n",
    "                            min_samples_leaf=2,\n",
    "                            random_state=142)\n",
    "train_and_evaluate(dtr,X_train,y_train,X_test,y_test)"
   ]
  },
  {
   "cell_type": "code",
   "execution_count": 134,
   "metadata": {},
   "outputs": [
    {
     "name": "stdout",
     "output_type": "stream",
     "text": [
      "Train R-2 Score -> 0.7863303048679607\n",
      "Test R-2 Score -> 0.6491280886188142\n"
     ]
    }
   ],
   "source": [
    "rf = RandomForestRegressor(max_depth=8,\n",
    "    min_samples_split=4,\n",
    "    min_samples_leaf=4,\n",
    "    random_state=142)\n",
    "train_and_evaluate(rf,X_train,y_train,X_test,y_test)"
   ]
  },
  {
   "cell_type": "code",
   "execution_count": 160,
   "metadata": {},
   "outputs": [
    {
     "name": "stdout",
     "output_type": "stream",
     "text": [
      "Train R-2 Score -> 0.7280432198371596\n",
      "Test R-2 Score -> 0.6641031724594901\n"
     ]
    }
   ],
   "source": [
    "knnreg = KNeighborsRegressor(n_neighbors = 12)\n",
    "train_and_evaluate(knnreg,X_train,y_train,X_test,y_test)"
   ]
  },
  {
   "cell_type": "code",
   "execution_count": 161,
   "metadata": {},
   "outputs": [
    {
     "data": {
      "text/html": [
       "<div>\n",
       "<style scoped>\n",
       "    .dataframe tbody tr th:only-of-type {\n",
       "        vertical-align: middle;\n",
       "    }\n",
       "\n",
       "    .dataframe tbody tr th {\n",
       "        vertical-align: top;\n",
       "    }\n",
       "\n",
       "    .dataframe thead th {\n",
       "        text-align: right;\n",
       "    }\n",
       "</style>\n",
       "<table border=\"1\" class=\"dataframe\">\n",
       "  <thead>\n",
       "    <tr style=\"text-align: right;\">\n",
       "      <th></th>\n",
       "      <th>Machine Learning Algorithm</th>\n",
       "      <th>Predictive Accuracy</th>\n",
       "    </tr>\n",
       "  </thead>\n",
       "  <tbody>\n",
       "    <tr>\n",
       "      <th>0</th>\n",
       "      <td>LinearRegression</td>\n",
       "      <td>0.493586</td>\n",
       "    </tr>\n",
       "    <tr>\n",
       "      <th>1</th>\n",
       "      <td>DecisionTreeRegressor</td>\n",
       "      <td>0.607112</td>\n",
       "    </tr>\n",
       "    <tr>\n",
       "      <th>2</th>\n",
       "      <td>RandomForestRegressor</td>\n",
       "      <td>0.649128</td>\n",
       "    </tr>\n",
       "    <tr>\n",
       "      <th>3</th>\n",
       "      <td>KNeighborsRegressor</td>\n",
       "      <td>0.664103</td>\n",
       "    </tr>\n",
       "  </tbody>\n",
       "</table>\n",
       "</div>"
      ],
      "text/plain": [
       "  Machine Learning Algorithm  Predictive Accuracy\n",
       "0           LinearRegression             0.493586\n",
       "1      DecisionTreeRegressor             0.607112\n",
       "2      RandomForestRegressor             0.649128\n",
       "3        KNeighborsRegressor             0.664103"
      ]
     },
     "execution_count": 161,
     "metadata": {},
     "output_type": "execute_result"
    }
   ],
   "source": [
    "from sklearn.model_selection import cross_val_score\n",
    "\n",
    "\n",
    "regressors = [lr,\n",
    "             dtr,\n",
    "             rf,\n",
    "             knnreg]\n",
    "\n",
    "df = pd.DataFrame(columns = ['Machine Learning Algorithm', 'Predictive Accuracy'])\n",
    "\n",
    "for regressor in regressors: \n",
    "    regressor.fit(X_train, y_train)\n",
    "    y_pred = regressor.predict(X_test)\n",
    "    \n",
    "    s = str(type(regressor)).split('.')[-1][:-2]\n",
    "\n",
    "    train = regressor.score(X_train, y_train)\n",
    "    \n",
    "    test = regressor.score(X_test, y_test)\n",
    "    \n",
    "    \n",
    "    accuracy = cross_val_score(estimator = regressor, X = X_train, y = y_train, cv=10)\n",
    "    cv = accuracy.mean()*100\n",
    "    \n",
    "    r2 = r2_score(y_test, y_pred)\n",
    "    \n",
    "    df = df.append({'Machine Learning Algorithm': s, 'Predictive Accuracy': test},\n",
    "                  ignore_index=True)\n",
    "df.head()"
   ]
  },
  {
   "cell_type": "markdown",
   "metadata": {},
   "source": [
    "<h2>Deployment<h2>"
   ]
  },
  {
   "cell_type": "markdown",
   "metadata": {},
   "source": [
    "The data and model were deployed in the form of a blog post on the medium website at the following link:\n",
    "https://medium.com/@maimon.amber/coronavirus-and-schools-what-can-we-learn-from-following-the-data-trail-36d684629a31"
   ]
  },
  {
   "cell_type": "code",
   "execution_count": null,
   "metadata": {},
   "outputs": [],
   "source": []
  }
 ],
 "metadata": {
  "kernelspec": {
   "display_name": "Python 3",
   "language": "python",
   "name": "python3"
  },
  "language_info": {
   "codemirror_mode": {
    "name": "ipython",
    "version": 3
   },
   "file_extension": ".py",
   "mimetype": "text/x-python",
   "name": "python",
   "nbconvert_exporter": "python",
   "pygments_lexer": "ipython3",
   "version": "3.8.3"
  }
 },
 "nbformat": 4,
 "nbformat_minor": 4
}
